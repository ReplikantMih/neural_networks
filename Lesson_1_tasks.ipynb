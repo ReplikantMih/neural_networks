{
 "cells": [
  {
   "cell_type": "code",
   "execution_count": 167,
   "metadata": {},
   "outputs": [],
   "source": [
    "import os\n",
    "from random import choice\n",
    "import pickle\n",
    "\n",
    "import numpy as np\n",
    "import pandas as pd\n",
    "import seaborn as sns\n",
    "import matplotlib.pyplot as plt\n",
    "\n",
    "import seaborn as sns\n",
    "\n",
    "import warnings\n",
    "warnings.simplefilter(action='ignore', category=FutureWarning)\n",
    "\n",
    "# sklearn здесь только, чтобы разделить выборку на тренировочную и тестовую\n",
    "from sklearn.model_selection import train_test_split"
   ]
  },
  {
   "cell_type": "markdown",
   "metadata": {},
   "source": [
    "### Предобработка данных и описание функций:"
   ]
  },
  {
   "cell_type": "code",
   "execution_count": 127,
   "metadata": {},
   "outputs": [],
   "source": [
    "### Шаг 1. Определение функций, которые понадобяться для обучения\n",
    "# преобразование массива в бинарный вид результатов\n",
    "def to_one_hot(Y):\n",
    "    n_col = np.amax(Y) + 1\n",
    "    binarized = np.zeros((len(Y), n_col))\n",
    "    for i in range(len(Y)):\n",
    "        binarized[i, Y[i]] = 1.\n",
    "    return binarized\n",
    "\n",
    "# преобразование массива в необходимый вид\n",
    "def from_one_hot(Y):\n",
    "    arr = np.zeros((len(Y), 1))\n",
    "\n",
    "    for i in range(len(Y)):\n",
    "        l = layer2[i]\n",
    "        for j in range(len(l)):\n",
    "            if(l[j] == 1):\n",
    "                arr[i] = j+1\n",
    "    return arr\n",
    "\n",
    "# сигмоида и ее производная\n",
    "def sigmoid(x):\n",
    "    return 1/(1+np.exp(-x))\n",
    "\n",
    "def sigmoid_deriv(x):\n",
    "    return sigmoid(x)*(1 - sigmoid(x))\n",
    "\n",
    "# нормализация массива\n",
    "def normalize(X, axis=-1, order=2):\n",
    "    l2 = np.atleast_1d(np.linalg.norm(X, order, axis))\n",
    "    l2[l2 == 0] = 1\n",
    "    return X / np.expand_dims(l2, axis)\n",
    "\n",
    "# процесс обучения\n",
    "def learn(n, iters_count, w0, w1):\n",
    "    w0 = w0.copy()\n",
    "    w1 = w1.copy()\n",
    "    # массив для ошибок, чтобы потом построить график\n",
    "    errors = []\n",
    "    for i in range(iters_count):\n",
    "\n",
    "        # прямое распространение(feed forward)\n",
    "        layer0 = X_train\n",
    "        layer1 = sigmoid(np.dot(layer0, w0))\n",
    "        layer2 = sigmoid(np.dot(layer1, w1))\n",
    "\n",
    "        # обратное распространение(back propagation) с использованием градиентного спуска\n",
    "        layer2_error = y_train - layer2\n",
    "        layer2_delta = layer2_error * sigmoid_deriv(layer2)\n",
    "\n",
    "        layer1_error = layer2_delta.dot(w1.T)\n",
    "        layer1_delta = layer1_error * sigmoid_deriv(layer1)\n",
    "\n",
    "        w1 += layer1.T.dot(layer2_delta) * n\n",
    "        w0 += layer0.T.dot(layer1_delta) * n\n",
    "\n",
    "        error = np.mean(np.abs(layer2_error))\n",
    "        errors.append(error)\n",
    "        accuracy = (1 - error) * 100\n",
    "    return round(accuracy,2)\n",
    "\n",
    "\n",
    "### Шаг 2. Подготовка тренировочных данных\n",
    "# получения данных из csv файла. укажите здесь путь к файлу Iris.csv\n",
    "iris_data = pd.read_csv(\"Iris.csv\")\n",
    "# print(iris_data.head()) # расскоментируйте, чтобы посмотреть структуру данных\n",
    "\n",
    "# замена текстовых значений на цифровые\n",
    "iris_data['Species'].replace(['Iris-setosa', 'Iris-virginica', 'Iris-versicolor'], [0, 1, 2], inplace=True)\n",
    "\n",
    "# формирование входных данных\n",
    "columns = ['SepalLengthCm', 'SepalWidthCm', 'PetalLengthCm', 'PetalWidthCm']\n",
    "x = pd.DataFrame(iris_data, columns=columns)\n",
    "x = normalize(x.as_matrix())\n",
    "\n",
    "# формирование выходных данных(результатов)\n",
    "columns = ['Species']\n",
    "y = pd.DataFrame(iris_data, columns=columns)\n",
    "y = y.as_matrix()\n",
    "y = y.flatten()\n",
    "y = to_one_hot(y)\n",
    "\n",
    "# Разделение данных на тренировочные и тестовые\n",
    "X_train, X_test, y_train, y_test = train_test_split(x, y, test_size=0.33)\n",
    "\n",
    "\n",
    "# массив для ошибок, чтобы потом построить график\n",
    "errors = []"
   ]
  },
  {
   "cell_type": "markdown",
   "metadata": {},
   "source": [
    "### Обучение моделей, сбор данных:"
   ]
  },
  {
   "cell_type": "code",
   "execution_count": null,
   "metadata": {},
   "outputs": [],
   "source": [
    "%%time\n",
    "\n",
    "# Пространство параметров.\n",
    "n_list = np.linspace(0,1,35).round(3)\n",
    "iters_count_list = np.logspace(1, 5, 35).astype(int)\n",
    "\n",
    "\n",
    "for j in range(10):\n",
    "    results = {}\n",
    "    \n",
    "    # присваевание случайных весов\n",
    "    w0_ = 2*np.random.random((4, 5)) - 1 # для входного слоя   - 4 входа, 3 выхода\n",
    "    w1_ = 2*np.random.random((5, 3)) - 1 # для внутреннего слоя - 5 входов, 3 выхода\n",
    "\n",
    "    # Параметров 2, кол-во значений каждого 35, комбинаций 1225. Хочу посмотреть accuracy на всем пространстве\n",
    "    # вариантов.\n",
    "    # Считаться, видимо, это будет долго, поэтому чтобы можно было прерваться и посмотреть результаты, буду рандомить\n",
    "    # комбинации, но чекать чтобы одни и те же не повторялись.\n",
    "    for i in range(5000):\n",
    "        n = choice(n_list)\n",
    "        iters_count = choice(iters_count_list)\n",
    "        accuracy = learn(n, iters_count, w0_, w1_)\n",
    "\n",
    "        results[(n, iters_count)] = accuracy\n",
    "        print(f'iter {i} with n={n}, iters_count={iters_count} done, accuracy: {accuracy}')\n",
    "\n",
    "        if len(results) % 100 == 0:  # Дампим промежуточные результаты.\n",
    "            with open(f'results_{j}.pickle', 'wb') as f:\n",
    "                pickle.dump(results, f)\n",
    "        \n",
    "        # Заканчиваем если покрыли более 95% пространства параметров.\n",
    "        if len(results) > 0.95 * 1225:\n",
    "            with open(f'results_{j}.pickle', 'wb') as f:\n",
    "                pickle.dump(results, f)\n",
    "            break\n",
    "        \n",
    "        # Если результаты с такими параметрами уже есть - пропускаем.\n",
    "        if results.get((n, iters_count), None):\n",
    "            continue"
   ]
  },
  {
   "cell_type": "markdown",
   "metadata": {},
   "source": [
    "### Более тонкое обучение в облаке параметров, выбранном на предыдущем этапе:"
   ]
  },
  {
   "cell_type": "raw",
   "metadata": {},
   "source": [
    "%%time\n",
    "\n",
    "# Пространство параметров.\n",
    "n_list = np.linspace(0,0.25,10).round(3)\n",
    "iters_count_list = np.logspace(4, 6, 10).astype(int)\n",
    "\n",
    "\n",
    "for j in range(10):\n",
    "    results = {}\n",
    "    \n",
    "    # присваевание случайных весов\n",
    "    w0_ = 2*np.random.random((4, 5)) - 1 # для входного слоя   - 4 входа, 3 выхода\n",
    "    w1_ = 2*np.random.random((5, 3)) - 1 # для внутреннего слоя - 5 входов, 3 выхода\n",
    "\n",
    "    # Параметров 2, кол-во значений каждого 35, комбинаций 1225. Хочу посмотреть accuracy на всем пространстве\n",
    "    # вариантов.\n",
    "    # Считаться, видимо, это будет долго, поэтому чтобы можно было прерваться и посмотреть результаты, буду рандомить\n",
    "    # комбинации, но чекать чтобы одни и те же не повторялись.\n",
    "    for i in range(1000):\n",
    "        n = choice(n_list)\n",
    "        iters_count = choice(iters_count_list)\n",
    "        accuracy = learn(n, iters_count, w0_, w1_)\n",
    "\n",
    "        results[(n, iters_count)] = accuracy\n",
    "        print(f'iter {i} with n={n}, iters_count={iters_count} done, accuracy: {accuracy}')\n",
    "\n",
    "        if len(results) % 100 == 0:  # Дампим промежуточные результаты.\n",
    "            with open(f'accurate_results_{j}.pickle', 'wb') as f:\n",
    "                pickle.dump(results, f)\n",
    "        \n",
    "        # Заканчиваем если покрыли более 95% пространства параметров.\n",
    "        if len(results) > 0.95 * 100:\n",
    "            with open(f'accurate_results_{j}.pickle', 'wb') as f:\n",
    "                pickle.dump(results, f)\n",
    "            break\n",
    "        \n",
    "        # Если результаты с такими параметрами уже есть - пропускаем.\n",
    "        if results.get((n, iters_count), None):\n",
    "            continue"
   ]
  },
  {
   "cell_type": "markdown",
   "metadata": {},
   "source": [
    "### Интерпретация результатов:"
   ]
  },
  {
   "cell_type": "code",
   "execution_count": 188,
   "metadata": {},
   "outputs": [
    {
     "data": {
      "text/plain": [
       "['results_0.pickle']"
      ]
     },
     "execution_count": 188,
     "metadata": {},
     "output_type": "execute_result"
    }
   ],
   "source": [
    "full_map = np.zeros((35, 35))\n",
    "accurate_map = np.zeros((10, 10))\n",
    "\n",
    "[file for file in os.listdir() if 'pickle' in file]"
   ]
  },
  {
   "cell_type": "code",
   "execution_count": 189,
   "metadata": {},
   "outputs": [],
   "source": [
    "n_list = np.linspace(0,1,35).round(3)\n",
    "n_list_dict = {}\n",
    "for i in range(len(n_list)):\n",
    "    n_list_dict[n_list[i]] = i\n",
    "\n",
    "iters_count_list = np.logspace(1, 5, 35).astype(int)\n",
    "iters_count_list_dict = {}\n",
    "for i in range(len(iters_count_list)):\n",
    "    iters_count_list_dict[iters_count_list[i]] = i\n",
    "\n",
    "\n",
    "with open('results_0.pickle', 'rb') as f:\n",
    "    results_ = pickle.load(f)\n",
    "\n",
    "# Загружаем результаты обучений с разными значениями параметров.    \n",
    "for result in results_.items():\n",
    "    full_map[n_list_dict[result[0][0]], iters_count_list_dict[result[0][1]]] = result[1]\n",
    "    "
   ]
  },
  {
   "cell_type": "code",
   "execution_count": 202,
   "metadata": {},
   "outputs": [
    {
     "data": {
      "text/plain": [
       "<matplotlib.axes._subplots.AxesSubplot at 0x22d58b38f28>"
      ]
     },
     "execution_count": 202,
     "metadata": {},
     "output_type": "execute_result"
    },
    {
     "data": {
      "image/png": "[encoded data removed]",
      "text/plain": [
       "<Figure size 1224x1080 with 2 Axes>"
      ]
     },
     "metadata": {
      "needs_background": "light"
     },
     "output_type": "display_data"
    }
   ],
   "source": [
    "plt.figure(figsize=(17,15))\n",
    "\n",
    "plt.subplot(2,2,1)\n",
    "plt.title('full params')\n",
    "sns.heatmap(full_map)\n",
    "\n",
    "# plt.subplot(2,2,2)\n",
    "# plt.title('accurate params')\n",
    "# sns.heatmap(accurate_map)"
   ]
  },
  {
   "cell_type": "markdown",
   "metadata": {},
   "source": [
    "### Выводы:"
   ]
  },
  {
   "cell_type": "markdown",
   "metadata": {},
   "source": [
    "Посмотрел влияние показателей 'кол-во итераций обучения' и 'learning rate' на точность модели. Построил тепловую карту, где цвет - точность, на оси Y lerning rate, возрастающий сверху вниз, на оси X кол-во итераций, возрастающий слева направо.\n",
    "\n",
    "Можно сделать следующие выводы:\n",
    "\n",
    "* Кол-во итераций увеличивает время на обучение (это не из тепловой карты, это из эмпирических наблюдений) - ну и это логично и предсказуемо.\n",
    "\n",
    "* При learning_rate больше 0,5 особо ловить нечего, слишком большой шаг чтобы обучать модель, разве что на совсем малом кол-ве итераций модель показывает какие-то нерандомные результаты, в принципе этот эффект можно использовать для каких-то целей где надо быстро прикидочно обучить модель при каких-то переборах или типа того. Но качество в этом случае не будет отличаться от качества при том же кол-ве итераций и при низком learning rate, так что смысла использовать большой learning rate нет. В данном пункте речь идет о крайне левой нижней и верхней части тепловой карты.\n",
    "\n",
    "* При learning rate меньше 0,5 качество модели растет с ростом кол-ва итераций (шкала X, имеет логарифмический масштаб). Количество итераций увеличивает качество модели. Ну и, понятно, даже на логарифмической шкале прирост от каждого последующего логарифмического шага дает все меньший прирост.\n",
    "\n",
    "* Таким образом можно сделать вывод, что нейросеть данного типа (с данными представленной сложности и расзмерности) не склонна к переобучению с ростом числа итераций и кол-вот итераций следует определять в соответствием от \"стоимости\" прироста качества, т.е. каждый последующий равный шаг прироста качества с точки зрения вычислительных и временных затра обходится все дороже и в какой-то момент эти затраты превышают условную ценность прироста качества, к которому они могут приводить, на это следует ориентироваться при выборе значения данного показателя.\n"
   ]
  }
 ],
 "metadata": {
  "kernelspec": {
   "display_name": "Python 3",
   "language": "python",
   "name": "python3"
  },
  "language_info": {
   "codemirror_mode": {
    "name": "ipython",
    "version": 3
   },
   "file_extension": ".py",
   "mimetype": "text/x-python",
   "name": "python",
   "nbconvert_exporter": "python",
   "pygments_lexer": "ipython3",
   "version": "3.7.3"
  }
 },
 "nbformat": 4,
 "nbformat_minor": 2
}
